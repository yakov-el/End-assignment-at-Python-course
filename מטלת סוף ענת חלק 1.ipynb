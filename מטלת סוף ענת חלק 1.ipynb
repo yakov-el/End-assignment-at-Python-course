{
 "cells": [
  {
   "cell_type": "code",
   "execution_count": 5,
   "metadata": {},
   "outputs": [],
   "source": [
    "## Part 1 Final Task\n",
    "\n",
    "import json\n",
    "import urllib\n",
    "import requests\n",
    "import pandas as pd\n",
    "from bs4 import BeautifulSoup\n",
    "\n",
    "## function that take the links of the products ##\n",
    "\n",
    "def links ():\n",
    "    links=[]\n",
    "    URL=\"https://ubject.co.il/%D7%98%D7%A7%D7%A1%D7%98%D7%99%D7%9C/%D7%A9%D7%98%D7%99%D7%97%D7%99%D7%9D/\"\n",
    "    page = requests.get(URL)\n",
    "    soup = BeautifulSoup(page.content,'lxml')\n",
    "    main=soup.find_all(class_='astra-shop-thumbnail-wrap')\n",
    "    for a in main:\n",
    "        a=a('a')\n",
    "        for link in a :\n",
    "            plinks=(link.get('href', None))\n",
    "            links.append(plinks)\n",
    "    return(links)"
   ]
  },
  {
   "cell_type": "code",
   "execution_count": 2,
   "metadata": {},
   "outputs": [],
   "source": [
    "def datamaker():\n",
    "    all_links=links()\n",
    "    alldata=[]\n",
    "    for link in all_links: #run on all the links of every product##\n",
    "        page =requests.get(link)\n",
    "        soup =BeautifulSoup(page.content,'lxml')\n",
    "        color_and_size=soup.find('div',class_=\"woocommerce-product-details__short-description\").p.text ##search for the class that have color and size ## \n",
    "        desc=soup.find('div',class_=\"woocommerce-Tabs-panel woocommerce-Tabs-panel--description panel entry-content wc-tab\").p.text\n",
    "        price=soup.find('div',class_=\"elementor-element elementor-element-2cf0a9c elementor-widget elementor-widget-woocommerce-product-price\").p.text\n",
    "        temp1=color_and_size.split('מידות:')\n",
    "        temp12=temp1[0].split(\"צבע: \")\n",
    "        size=temp1[1]\n",
    "        color=temp12[1]\n",
    "        tempo=str(soup.find(property=\"og:image\")).split('\"')\n",
    "        img_url=tempo[1]\n",
    "        prod_name= soup.find('div',class_=\"elementor-element elementor-element-6cae1000 elementor-widget elementor-widget-woocommerce-product-title elementor-page-title elementor-widget-heading\").h1.text\n",
    "        dic={'Product Name':prod_name,'category':'שטיחים','Price':price,'Image URL':img_url,'description':desc,'Size':size}#take the data and label in into dic#\n",
    "        alldata.append(dic)\n",
    "    return alldata\n"
   ]
  },
  {
   "cell_type": "code",
   "execution_count": 3,
   "metadata": {},
   "outputs": [],
   "source": [
    "def csv_and_print ():\n",
    "    data=pd.DataFrame(datamaker())\n",
    "    print(data)\n",
    "    data.to_csv('products.csv',index=False ,encoding=\"utf-8-sig\")"
   ]
  },
  {
   "cell_type": "code",
   "execution_count": 4,
   "metadata": {},
   "outputs": [
    {
     "name": "stdout",
     "output_type": "stream",
     "text": [
      "Empty DataFrame\n",
      "Columns: []\n",
      "Index: []\n"
     ]
    }
   ],
   "source": [
    "csv_and_print ()\n"
   ]
  },
  {
   "cell_type": "code",
   "execution_count": null,
   "metadata": {},
   "outputs": [],
   "source": []
  }
 ],
 "metadata": {
  "kernelspec": {
   "display_name": "Python 3",
   "language": "python",
   "name": "python3"
  },
  "language_info": {
   "codemirror_mode": {
    "name": "ipython",
    "version": 3
   },
   "file_extension": ".py",
   "mimetype": "text/x-python",
   "name": "python",
   "nbconvert_exporter": "python",
   "pygments_lexer": "ipython3",
   "version": "3.8.5"
  }
 },
 "nbformat": 4,
 "nbformat_minor": 4
}
