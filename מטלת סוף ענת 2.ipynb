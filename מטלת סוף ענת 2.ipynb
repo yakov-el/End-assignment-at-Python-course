{
 "cells": [
  {
   "cell_type": "code",
   "execution_count": null,
   "metadata": {},
   "outputs": [],
   "source": [
    "import pandas as pd\n",
    "import numpy as np\n",
    "\n",
    "TWEETS_FILE_PATH='C:/Users/yakov/Documents/school/Intro to Data Science/Final_task/Part 2/data/tweets_metrics.csv'\n",
    "USER_FILE_PATH='C:/Users/yakov/Documents/school/Intro to Data Science/Final_task/Part 2/data/users_metrics.csv'\n",
    "\n",
    "tweets = pd.read_csv(TWEETS_FILE_PATH,encoding='latin-1').rename({'created at': 'created_at'}, axis=1)\n",
    "users = pd.read_csv(USER_FILE_PATH,encoding='latin-1')\n"
   ]
  },
  {
   "cell_type": "code",
   "execution_count": null,
   "metadata": {},
   "outputs": [],
   "source": [
    "tweets[\"shared_geo_location\"] = tweets.apply(lambda row: 0 if (type(row.geo) is float) else 1, axis = 1)\n",
    "tweets[\"hashtag_count\"] = tweets.apply(lambda row: row.hashtags.count('text'), axis = 1)\n",
    "tweets[\"device\"] = tweets.apply(lambda row: 'PC' if ('Twitter for Websites' in row.source or 'Twitter Web Client' in row.source) else 'mobile', axis = 1)\n",
    "tweets[\"word_count\"] = tweets.apply(lambda row: len(row.text.split()), axis = 1)\n",
    "tweets\n"
   ]
  },
  {
   "cell_type": "code",
   "execution_count": null,
   "metadata": {},
   "outputs": [],
   "source": [
    "users['Num_words_in_desc'] = users.apply(lambda row: 0 if(type(row.description) is float) else len(row.description.split()), axis = 1)\n",
    "users['Is_celeb'] = users.apply(lambda row: 1 if(int(row.followers_count) > 100000) else 0, axis = 1)\n",
    "ids = users.user_id\n",
    "Collected_tweets = []\n",
    "for Id in ids:\n",
    "    Collected_tweets.append(len(tweets.loc[tweets.user_id == Id]))\n",
    "users['Collected_tweets'] = Collected_tweets\n",
    "users['Collected_tweets_percent'] = users.apply(lambda row: row.Collected_tweets / row.statuses_count, axis = 1)\n",
    "users"
   ]
  },
  {
   "cell_type": "code",
   "execution_count": null,
   "metadata": {},
   "outputs": [],
   "source": [
    "import datetime\n",
    "temptweets = tweets.copy(deep=True)\n",
    "temptweets.dropna(subset = ['created_at'], inplace=True)## drop what is null#\n",
    "temptweets['created_at']=temptweets['created_at'].astype('datetime64[ns]').apply(lambda row: row.strftime(\"%x\")).astype('datetime64[ns]')# cast it into datetime  do it in m/d/y ##\n",
    "temptweets['year']= temptweets['created_at'].apply(lambda row: row.strftime(\"%Y\"))#get the year##\n",
    "temptweets['month']= temptweets['created_at'].apply(lambda row: row.strftime(\"%b\"))#get the mounth ##\n",
    "temptweets['mobile']= temptweets['device'].apply(lambda row: 1 if (row==\"mobile\" ) else 0)#the device will be 1 if mobile will use it later ##\n",
    "# itay zaada is the king of the all world ##\n",
    "temptweets['quoted']= temptweets['is_quote_status'].apply(lambda row: 1 if (row==\"True\" ) else 0)# if it was quted it will be 1#\n",
    "\n",
    "#all of this dataframe is temp ##"
   ]
  },
  {
   "cell_type": "code",
   "execution_count": null,
   "metadata": {},
   "outputs": [],
   "source": [
    "tweets_mothly_summary = temptweets.groupby(['user_id','year','month']).agg(\n",
    "{\n",
    "\"tweet_id\": \"count\",\n",
    "\"hashtag_count\":\"sum\",\n",
    "\"mobile\":\"sum\",\n",
    "'retweet_count': 'sum',\n",
    "'shared_geo_location':'sum',\n",
    "'quoted' :'sum',\n",
    "    }).reset_index() ##agg according id year and month ##\n",
    "\n",
    "\n",
    "tweets_mothly_summary.columns = ['user_id','Year','Month','Tweet_count',' Hashtag_count',\"mobile\",\"Retweet_count\",\"Location_sharing_count\",\"Quote_count\"]\n",
    "temp2=users.copy(deep=True)[['user_id','statuses_count']]                         \n",
    "\n",
    "tweets_mothly_summary=pd.merge(tweets_mothly_summary, temp2,on='user_id',how='left')## insert the total num in the dataframe ##\n",
    "tweets_mothly_summary['Percent_mobile'] = tweets_mothly_summary['mobile']/tweets_mothly_summary['Tweet_count']#make a mobile precent # \n",
    "\n",
    "tweets_mothly_summary['from total'] = tweets_mothly_summary['Tweet_count']/tweets_mothly_summary['statuses_count']\n",
    "tweets_mothly_summary = tweets_mothly_summary.drop(['mobile'], axis=1)\n",
    "tweets_mothly_summary = tweets_mothly_summary.drop(['statuses_count'], axis=1)"
   ]
  },
  {
   "cell_type": "code",
   "execution_count": null,
   "metadata": {},
   "outputs": [],
   "source": [
    "tweets_mothly_summary\n"
   ]
  },
  {
   "cell_type": "code",
   "execution_count": null,
   "metadata": {},
   "outputs": [],
   "source": [
    "import matplotlib.pyplot as plt\n",
    "%matplotlib notebook\n",
    "from matplotlib.pyplot import figure\n",
    "\n",
    "figure(figsize=(8, 6), dpi=80)\n",
    "##hist of tweets for person ##\n",
    "x=users['statuses_count']\n",
    "histo=x.hist(bins=20,color='pink')\n",
    "histo.set_ylabel('number of people')\n",
    "histo.set_xlabel('number of tweets')\n",
    "plt.show()"
   ]
  },
  {
   "cell_type": "code",
   "execution_count": null,
   "metadata": {},
   "outputs": [],
   "source": [
    "## hist for followers per person ##\n",
    "from matplotlib.pyplot import figure\n",
    "\n",
    "figure(figsize=(8, 6), dpi=80)\n",
    "y=users['followers_count']\n",
    "histo2=y.hist(bins=20,color='gold')\n",
    "histo2.set_ylabel('number of people')\n",
    "histo2.set_xlabel('number of followers')\n",
    "histo2.ticklabel_format(useOffset=False, style='plain')\n",
    "plt.show()\n"
   ]
  },
  {
   "cell_type": "code",
   "execution_count": null,
   "metadata": {},
   "outputs": [],
   "source": [
    "from matplotlib.pyplot import figure\n",
    "df1 = users[['user_id','followers_count']].sort_values('followers_count',ascending = False).head(10)\n",
    "\n",
    "plot_bar=df1.plot.bar(x=\"user_id\", y=\"followers_count\", rot=80, title=\"Number of followers for the top 10\",color=['brown', 'red', 'green', 'blue', 'cyan',\"yellow\",\"pink\",\"magenta\",\"orange\",\"gray\"])\n",
    "plt.show()"
   ]
  },
  {
   "cell_type": "code",
   "execution_count": null,
   "metadata": {},
   "outputs": [],
   "source": [
    "from matplotlib.pyplot import figure\n",
    "df2 = users[['statuses_count','followers_count']].sort_values('followers_count',ascending = False)\n",
    "\n",
    "plot_line=df2.plot(x=\"followers_count\", y=\"statuses_count\", rot=70, title=\"followers_count vs statuses_count\",c='brown',linewidth=3.5)\n",
    "plot_line.ticklabel_format(useOffset=False, style='plain')\n",
    "plot_line.grid() \n",
    "\n",
    "\n",
    "\n",
    "plt.show()"
   ]
  },
  {
   "cell_type": "code",
   "execution_count": null,
   "metadata": {},
   "outputs": [],
   "source": [
    "tweets_mothly_summary.to_csv('tweets_mothly_summary.csv',index=False ,encoding=\"utf-8-sig\") ## make it in csv ##\n",
    "users.to_csv('users.csv',index=False ,encoding=\"utf-8-sig\") ## make it in csv ##\n",
    "tweets.to_csv('tweets.csv',index=False ,encoding=\"utf-8-sig\") ## make it in csv ##\n",
    " "
   ]
  }
 ],
 "metadata": {
  "kernelspec": {
   "display_name": "Python 3",
   "language": "python",
   "name": "python3"
  },
  "language_info": {
   "codemirror_mode": {
    "name": "ipython",
    "version": 3
   },
   "file_extension": ".py",
   "mimetype": "text/x-python",
   "name": "python",
   "nbconvert_exporter": "python",
   "pygments_lexer": "ipython3",
   "version": "3.8.5"
  }
 },
 "nbformat": 4,
 "nbformat_minor": 4
}
